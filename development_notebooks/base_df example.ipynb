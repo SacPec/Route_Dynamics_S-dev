{
 "cells": [
  {
   "cell_type": "code",
   "execution_count": 1,
   "id": "43fc238e",
   "metadata": {},
   "outputs": [],
   "source": [
    "import os\n",
    "import sys\n",
    "module_path = os.path.abspath(os.path.join('..'))\n",
    "sys.path.append(module_path)"
   ]
  },
  {
   "cell_type": "code",
   "execution_count": 2,
   "id": "a9cb5652",
   "metadata": {},
   "outputs": [],
   "source": [
    "import route_dynamics.route_elevation.base_df as base"
   ]
  },
  {
   "cell_type": "code",
   "execution_count": 4,
   "id": "18ac8ad6",
   "metadata": {},
   "outputs": [],
   "source": [
    "shapefile_name = '../data/rt22_pts.shp'"
   ]
  },
  {
   "cell_type": "code",
   "execution_count": 6,
   "id": "61ae4c99",
   "metadata": {},
   "outputs": [
    {
     "data": {
      "text/html": [
       "<div>\n",
       "<style scoped>\n",
       "    .dataframe tbody tr th:only-of-type {\n",
       "        vertical-align: middle;\n",
       "    }\n",
       "\n",
       "    .dataframe tbody tr th {\n",
       "        vertical-align: top;\n",
       "    }\n",
       "\n",
       "    .dataframe thead th {\n",
       "        text-align: right;\n",
       "    }\n",
       "</style>\n",
       "<table border=\"1\" class=\"dataframe\">\n",
       "  <thead>\n",
       "    <tr style=\"text-align: right;\">\n",
       "      <th></th>\n",
       "      <th>Z</th>\n",
       "      <th>geometry</th>\n",
       "      <th>length</th>\n",
       "      <th>grade</th>\n",
       "    </tr>\n",
       "  </thead>\n",
       "  <tbody>\n",
       "    <tr>\n",
       "      <th>0</th>\n",
       "      <td>333.922952</td>\n",
       "      <td>POINT (-122.38813 47.56295)</td>\n",
       "      <td>0</td>\n",
       "      <td>0.000000</td>\n",
       "    </tr>\n",
       "    <tr>\n",
       "      <th>1</th>\n",
       "      <td>333.782353</td>\n",
       "      <td>POINT (-122.38810 47.56295)</td>\n",
       "      <td>6</td>\n",
       "      <td>-0.023433</td>\n",
       "    </tr>\n",
       "    <tr>\n",
       "      <th>2</th>\n",
       "      <td>333.642295</td>\n",
       "      <td>POINT (-122.38808 47.56295)</td>\n",
       "      <td>12</td>\n",
       "      <td>-0.023343</td>\n",
       "    </tr>\n",
       "    <tr>\n",
       "      <th>3</th>\n",
       "      <td>333.502775</td>\n",
       "      <td>POINT (-122.38806 47.56295)</td>\n",
       "      <td>18</td>\n",
       "      <td>-0.023253</td>\n",
       "    </tr>\n",
       "    <tr>\n",
       "      <th>4</th>\n",
       "      <td>333.363793</td>\n",
       "      <td>POINT (-122.38803 47.56295)</td>\n",
       "      <td>24</td>\n",
       "      <td>-0.023164</td>\n",
       "    </tr>\n",
       "    <tr>\n",
       "      <th>...</th>\n",
       "      <td>...</td>\n",
       "      <td>...</td>\n",
       "      <td>...</td>\n",
       "      <td>...</td>\n",
       "    </tr>\n",
       "    <tr>\n",
       "      <th>9714</th>\n",
       "      <td>324.334638</td>\n",
       "      <td>POINT (-122.38813 47.56285)</td>\n",
       "      <td>58284</td>\n",
       "      <td>0.038188</td>\n",
       "    </tr>\n",
       "    <tr>\n",
       "      <th>9715</th>\n",
       "      <td>324.566006</td>\n",
       "      <td>POINT (-122.38813 47.56288)</td>\n",
       "      <td>58290</td>\n",
       "      <td>0.038561</td>\n",
       "    </tr>\n",
       "    <tr>\n",
       "      <th>9716</th>\n",
       "      <td>324.799624</td>\n",
       "      <td>POINT (-122.38813 47.56290)</td>\n",
       "      <td>58296</td>\n",
       "      <td>0.038936</td>\n",
       "    </tr>\n",
       "    <tr>\n",
       "      <th>9717</th>\n",
       "      <td>325.035500</td>\n",
       "      <td>POINT (-122.38813 47.56292)</td>\n",
       "      <td>58302</td>\n",
       "      <td>0.039313</td>\n",
       "    </tr>\n",
       "    <tr>\n",
       "      <th>9718</th>\n",
       "      <td>325.273646</td>\n",
       "      <td>POINT (-122.38813 47.56295)</td>\n",
       "      <td>58308</td>\n",
       "      <td>0.039691</td>\n",
       "    </tr>\n",
       "  </tbody>\n",
       "</table>\n",
       "<p>9719 rows × 4 columns</p>\n",
       "</div>"
      ],
      "text/plain": [
       "               Z                     geometry  length     grade\n",
       "0     333.922952  POINT (-122.38813 47.56295)       0  0.000000\n",
       "1     333.782353  POINT (-122.38810 47.56295)       6 -0.023433\n",
       "2     333.642295  POINT (-122.38808 47.56295)      12 -0.023343\n",
       "3     333.502775  POINT (-122.38806 47.56295)      18 -0.023253\n",
       "4     333.363793  POINT (-122.38803 47.56295)      24 -0.023164\n",
       "...          ...                          ...     ...       ...\n",
       "9714  324.334638  POINT (-122.38813 47.56285)   58284  0.038188\n",
       "9715  324.566006  POINT (-122.38813 47.56288)   58290  0.038561\n",
       "9716  324.799624  POINT (-122.38813 47.56290)   58296  0.038936\n",
       "9717  325.035500  POINT (-122.38813 47.56292)   58302  0.039313\n",
       "9718  325.273646  POINT (-122.38813 47.56295)   58308  0.039691\n",
       "\n",
       "[9719 rows x 4 columns]"
      ]
     },
     "execution_count": 6,
     "metadata": {},
     "output_type": "execute_result"
    }
   ],
   "source": [
    "base.wrapper(shapefile_name)"
   ]
  },
  {
   "cell_type": "code",
   "execution_count": null,
   "id": "7573efb7",
   "metadata": {},
   "outputs": [],
   "source": []
  }
 ],
 "metadata": {
  "kernelspec": {
   "display_name": "Python 3",
   "language": "python",
   "name": "python3"
  },
  "language_info": {
   "codemirror_mode": {
    "name": "ipython",
    "version": 3
   },
   "file_extension": ".py",
   "mimetype": "text/x-python",
   "name": "python",
   "nbconvert_exporter": "python",
   "pygments_lexer": "ipython3",
   "version": "3.9.4"
  }
 },
 "nbformat": 4,
 "nbformat_minor": 5
}
